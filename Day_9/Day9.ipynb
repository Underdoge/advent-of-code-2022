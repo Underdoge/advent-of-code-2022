{
 "cells": [
  {
   "attachments": {},
   "cell_type": "markdown",
   "metadata": {},
   "source": [
    "# Day 9"
   ]
  },
  {
   "attachments": {},
   "cell_type": "markdown",
   "metadata": {},
   "source": [
    "### Part 1 & 2"
   ]
  },
  {
   "cell_type": "code",
   "execution_count": 4,
   "metadata": {},
   "outputs": [
    {
     "name": "stdout",
     "output_type": "stream",
     "text": [
      "Part 1 tail positions: 6209\n",
      "Part 2 tail positions: 2460\n"
     ]
    }
   ],
   "source": [
    "import math\n",
    "\n",
    "def rope(dir,distance,knots_num):\n",
    "    tail_positions = []\n",
    "    knots= []\n",
    "    df_movements = pd.DataFrame({'dir':dir,'steps':distance})\n",
    "    steps = df_movements.iloc[0]['steps']\n",
    "    dist = steps\n",
    "    head_x = 0\n",
    "    head_y = 0\n",
    "    for i in range(knots_num):\n",
    "        knots.append([head_x,head_y])\n",
    "    tail_positions.append(str((head_x,head_y)))\n",
    "    while len(df_movements) >= 0 and steps <= dist:\n",
    "        if (str((knots[knots_num-1][0],knots[knots_num-1][1])) not in tail_positions):\n",
    "            tail_positions.append(str((knots[knots_num-1][0],knots[knots_num-1][1])))\n",
    "        if steps == dist and len(df_movements) > 0:\n",
    "            movement = df_movements.iloc[0]\n",
    "            df_movements = df_movements.iloc[1: , :]\n",
    "            dist = movement['steps']\n",
    "            steps = 1\n",
    "        else:\n",
    "            steps += 1\n",
    "        if movement['dir'] == 'R' or movement['dir'] == 'U':\n",
    "            direction = 1\n",
    "            if movement['dir'] == 'R':\n",
    "                knots[0][0] += direction\n",
    "            else:\n",
    "                knots[0][1] += direction\n",
    "        else:\n",
    "            direction = -1\n",
    "            if movement['dir'] == 'L':\n",
    "                knots[0][0] += direction\n",
    "            else:\n",
    "                knots[0][1] += direction\n",
    "        for i in range(1,knots_num):\n",
    "            if (math.dist([knots[i][0],knots[i][1]],[knots[i-1][0],knots[i-1][1]]) > 2.8):\n",
    "                if knots[i][0] < knots[i-1][0]:\n",
    "                    knots[i][0] += int(abs(knots[i][0] - knots[i-1][0])/2)\n",
    "                if knots[i][0] > knots[i-1][0]:\n",
    "                    knots[i][0] -= int(abs(knots[i][0] - knots[i-1][0])/2)\n",
    "                if knots[i][1] < knots[i-1][1]:\n",
    "                    knots[i][1] += int(abs(knots[i][1] - knots[i-1][1])/2)\n",
    "                if knots[i][1] > knots[i-1][1]:\n",
    "                    knots[i][1] -= int(abs(knots[i][1] - knots[i-1][1])/2)\n",
    "            else:\n",
    "                if (knots[i][0] < knots[i-1][0] - 1):\n",
    "                    knots[i][0] = knots[i-1][0] - 1\n",
    "                    if knots[i][1] != knots[i-1][1]:\n",
    "                        knots[i][1] = knots[i-1][1]\n",
    "                if (knots[i][0] > knots[i-1][0] + 1):\n",
    "                    knots[i][1] = knots[i-1][1]\n",
    "                    knots[i][0] = knots[i-1][0] + 1\n",
    "                if (knots[i][1] < knots[i-1][1] - 1):\n",
    "                    knots[i][0] = knots[i-1][0]\n",
    "                    knots[i][1] = knots[i-1][1] - 1\n",
    "                if (knots[i][1] > knots[i-1][1] + 1):\n",
    "                    knots[i][0] = knots[i-1][0]\n",
    "                    knots[i][1] = knots[i-1][1] + 1\n",
    "    return len(tail_positions)\n",
    "\n",
    "def read_head_movements(file):\n",
    "    dir = []\n",
    "    steps = []\n",
    "    for line in open(file).readlines():\n",
    "        line = line.rstrip()\n",
    "        line = line.split(\" \")\n",
    "        dir.append(line[0])\n",
    "        steps.append(int(line[1]))\n",
    "    return (dir,steps)\n",
    "\n",
    "dir,steps = read_head_movements('input9.txt')\n",
    "print(\"Part 1 tail positions:\",rope(dir,steps,2))\n",
    "print(\"Part 2 tail positions:\",rope(dir,steps,10))"
   ]
  }
 ],
 "metadata": {
  "kernelspec": {
   "display_name": "Python 3",
   "language": "python",
   "name": "python3"
  },
  "language_info": {
   "codemirror_mode": {
    "name": "ipython",
    "version": 3
   },
   "file_extension": ".py",
   "mimetype": "text/x-python",
   "name": "python",
   "nbconvert_exporter": "python",
   "pygments_lexer": "ipython3",
   "version": "3.10.8"
  },
  "orig_nbformat": 4,
  "vscode": {
   "interpreter": {
    "hash": "b0fa6594d8f4cbf19f97940f81e996739fb7646882a419484c72d19e05852a7e"
   }
  }
 },
 "nbformat": 4,
 "nbformat_minor": 2
}
