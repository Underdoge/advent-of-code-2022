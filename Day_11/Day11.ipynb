{
 "cells": [
  {
   "attachments": {},
   "cell_type": "markdown",
   "metadata": {},
   "source": [
    "# Day 11"
   ]
  },
  {
   "attachments": {},
   "cell_type": "markdown",
   "metadata": {},
   "source": [
    "### Part 1"
   ]
  },
  {
   "cell_type": "code",
   "execution_count": 1,
   "metadata": {},
   "outputs": [
    {
     "data": {
      "text/plain": [
       "58794"
      ]
     },
     "execution_count": 1,
     "metadata": {},
     "output_type": "execute_result"
    }
   ],
   "source": [
    "def print_monkeys(monkeys):\n",
    "    for monkey in monkeys:\n",
    "        print(f\"Monkey {monkeys.index(monkey)}: {monkey}\")\n",
    "    print(\"\")\n",
    "\n",
    "def read_monkeys(file):\n",
    "    monkeys = []\n",
    "    i = 0\n",
    "    for line in open(file).read().splitlines():\n",
    "        line = line.strip()\n",
    "        if i == 0:\n",
    "            monkey = {}\n",
    "        if i == 1:\n",
    "            monkey['items'] = line[16::].split(\", \")\n",
    "        if i == 2:\n",
    "            monkey['operation'] = line[17::].split(\" \")\n",
    "        if i == 3:\n",
    "            monkey['test'] = int(line.split(\" \")[3])\n",
    "        if i == 4:\n",
    "            monkey['true'] = int(line.split(\" \")[5])\n",
    "        if i == 5:\n",
    "            monkey['false'] = int(line.split(\" \")[5])\n",
    "            monkey['inspected'] = 0\n",
    "            monkeys.append(monkey)\n",
    "        i += 1\n",
    "        if i == 7:\n",
    "            i = 0\n",
    "    return monkeys\n",
    "\n",
    "def monkey_business(monkeys,rounds):\n",
    "    for i in range(rounds):\n",
    "        for monkey in monkeys:\n",
    "            to_delete = []\n",
    "            for item in monkey['items']:\n",
    "                to_delete.append(item)\n",
    "                if monkey['operation'][2] == 'old':\n",
    "                    y = int(item)\n",
    "                else:\n",
    "                    y = int(monkey['operation'][2])\n",
    "                if monkey['operation'][1] == '+':\n",
    "                    new = int((int(item) + y)/3)\n",
    "                else:\n",
    "                    new = int((int(item) * y)/3)\n",
    "                if new % int(monkey['test']) == 0:\n",
    "                    monkeys[int(monkey['true'])]['items'].insert(0,new)\n",
    "                else:\n",
    "                    monkeys[int(monkey['false'])]['items'].insert(0,new)\n",
    "            for item in to_delete:\n",
    "                monkey['inspected'] += 1\n",
    "                monkey['items'].remove(item)\n",
    "    inspected = []\n",
    "    for monkey in monkeys:\n",
    "        inspected.append(monkey['inspected'])\n",
    "    inspected.sort(reverse=True)\n",
    "    return inspected[0]*inspected[1]\n",
    "\n",
    "monkey_business(read_monkeys('input11.txt'),20)"
   ]
  },
  {
   "attachments": {},
   "cell_type": "markdown",
   "metadata": {},
   "source": [
    "### Part 2"
   ]
  },
  {
   "cell_type": "code",
   "execution_count": 20,
   "metadata": {},
   "outputs": [
    {
     "ename": "KeyboardInterrupt",
     "evalue": "",
     "output_type": "error",
     "traceback": [
      "\u001b[0;31m---------------------------------------------------------------------------\u001b[0m",
      "\u001b[0;31mKeyboardInterrupt\u001b[0m                         Traceback (most recent call last)",
      "Cell \u001b[0;32mIn [20], line 60\u001b[0m\n\u001b[1;32m     57\u001b[0m     inspected\u001b[39m.\u001b[39msort(reverse\u001b[39m=\u001b[39m\u001b[39mTrue\u001b[39;00m)\n\u001b[1;32m     58\u001b[0m     \u001b[39mreturn\u001b[39;00m inspected[\u001b[39m0\u001b[39m]\u001b[39m*\u001b[39minspected[\u001b[39m1\u001b[39m]\n\u001b[0;32m---> 60\u001b[0m monkey_business(read_monkeys(\u001b[39m'\u001b[39;49m\u001b[39minput11.txt\u001b[39;49m\u001b[39m'\u001b[39;49m),\u001b[39m200\u001b[39;49m)\n",
      "Cell \u001b[0;32mIn [20], line 44\u001b[0m, in \u001b[0;36mmonkey_business\u001b[0;34m(monkeys, rounds)\u001b[0m\n\u001b[1;32m     42\u001b[0m     new \u001b[39m=\u001b[39m \u001b[39mint\u001b[39m(item) \u001b[39m+\u001b[39m y\n\u001b[1;32m     43\u001b[0m \u001b[39melse\u001b[39;00m:\n\u001b[0;32m---> 44\u001b[0m     new \u001b[39m=\u001b[39m \u001b[39mint\u001b[39;49m(item) \u001b[39m*\u001b[39;49m y\n\u001b[1;32m     45\u001b[0m \u001b[39mif\u001b[39;00m new \u001b[39m>\u001b[39m longest_item:\n\u001b[1;32m     46\u001b[0m     longest_item \u001b[39m=\u001b[39m new\n",
      "\u001b[0;31mKeyboardInterrupt\u001b[0m: "
     ]
    }
   ],
   "source": [
    "def print_monkeys(monkeys):\n",
    "    for monkey in monkeys:\n",
    "        print(f\"Monkey {monkeys.index(monkey)}: {monkey}\")\n",
    "    print(\"\")\n",
    "\n",
    "def read_monkeys(file):\n",
    "    monkeys = []\n",
    "    i = 0\n",
    "    for line in open(file).read().splitlines():\n",
    "        line = line.strip()\n",
    "        if i == 0:\n",
    "            monkey = {}\n",
    "        if i == 1:\n",
    "            monkey['items'] = line[16::].split(\", \")\n",
    "        if i == 2:\n",
    "            monkey['operation'] = line[17::].split(\" \")\n",
    "        if i == 3:\n",
    "            monkey['test'] = int(line.split(\" \")[3])\n",
    "        if i == 4:\n",
    "            monkey['true'] = int(line.split(\" \")[5])\n",
    "        if i == 5:\n",
    "            monkey['false'] = int(line.split(\" \")[5])\n",
    "            monkey['inspected'] = 0\n",
    "            monkeys.append(monkey)\n",
    "        i += 1\n",
    "        if i == 7:\n",
    "            i = 0\n",
    "    return monkeys\n",
    "\n",
    "def monkey_business(monkeys,rounds):\n",
    "    longest_item = 0\n",
    "    for i in range(rounds):\n",
    "        for monkey in monkeys:\n",
    "            to_delete = []\n",
    "            for item in monkey['items']:\n",
    "                to_delete.append(item)\n",
    "                if monkey['operation'][2] == 'old':\n",
    "                    y = int(item)\n",
    "                else:\n",
    "                    y = int(monkey['operation'][2])\n",
    "                if monkey['operation'][1] == '+':\n",
    "                    new = int(item) + y\n",
    "                else:\n",
    "                    new = int(item) * y\n",
    "                if new > longest_item:\n",
    "                    longest_item = new\n",
    "                if new % int(monkey['test']) == 0:\n",
    "                    monkeys[int(monkey['true'])]['items'].insert(0,new)\n",
    "                else:\n",
    "                    monkeys[int(monkey['false'])]['items'].insert(0,new)\n",
    "            for item in to_delete:\n",
    "                monkey['inspected'] += 1\n",
    "                monkey['items'].remove(item)\n",
    "    inspected = []\n",
    "    for monkey in monkeys:\n",
    "        inspected.append(monkey['inspected'])\n",
    "    inspected.sort(reverse=True)\n",
    "    return inspected[0]*inspected[1]\n",
    "\n",
    "monkey_business(read_monkeys('input11.txt'),200)"
   ]
  }
 ],
 "metadata": {
  "kernelspec": {
   "display_name": "Python 3",
   "language": "python",
   "name": "python3"
  },
  "language_info": {
   "codemirror_mode": {
    "name": "ipython",
    "version": 3
   },
   "file_extension": ".py",
   "mimetype": "text/x-python",
   "name": "python",
   "nbconvert_exporter": "python",
   "pygments_lexer": "ipython3",
   "version": "3.10.8"
  },
  "orig_nbformat": 4,
  "vscode": {
   "interpreter": {
    "hash": "b0fa6594d8f4cbf19f97940f81e996739fb7646882a419484c72d19e05852a7e"
   }
  }
 },
 "nbformat": 4,
 "nbformat_minor": 2
}
