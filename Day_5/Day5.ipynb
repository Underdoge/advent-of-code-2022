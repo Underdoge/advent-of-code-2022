{
 "cells": [
  {
   "cell_type": "markdown",
   "metadata": {},
   "source": [
    "# Day 5"
   ]
  },
  {
   "cell_type": "markdown",
   "metadata": {},
   "source": [
    "### Part 1"
   ]
  },
  {
   "cell_type": "code",
   "execution_count": 17,
   "metadata": {},
   "outputs": [
    {
     "name": "stdout",
     "output_type": "stream",
     "text": [
      "['    ', '[D] ', '   \\n']\n",
      "['    ', '[D] ', '   \\n']\n",
      "[['    ', '[D] ', '   \\n']]\n",
      "['[N] ', '[C] ', '   \\n']\n",
      "['[N] ', '[C] ', '   \\n']\n",
      "[['    ', '[D] ', '   \\n'], ['[N] ', '[C] ', '   \\n']]\n",
      "['[Z] ', '[M] ', '[P]\\n']\n",
      "['[Z] ', '[M] ', '[P]\\n']\n",
      "[['    ', '[D] ', '   \\n'], ['[N] ', '[C] ', '   \\n'], ['[Z] ', '[M] ', '[P]\\n']]\n",
      "[' 1  ', ' 2  ', ' 3 \\n']\n",
      "[' 1  ', ' 2  ', ' 3 \\n']\n",
      "[['    ', '[D] ', '   \\n'], ['[N] ', '[C] ', '   \\n'], ['[Z] ', '[M] ', '[P]\\n'], [' 1  ', ' 2  ', ' 3 \\n']]\n",
      "[['    ', '[D] ', '   \\n'], ['[N] ', '[C] ', '   \\n'], ['[Z] ', '[M] ', '[P]\\n'], [' 1  ', ' 2  ', ' 3 \\n']]\n",
      "None\n",
      "Took 0.0009 seconds\n"
     ]
    }
   ],
   "source": [
    "import time\n",
    "\n",
    "stacks = []\n",
    "\n",
    "def read_crates (file):\n",
    "    n = 4\n",
    "    for line in open(file).readlines():\n",
    "        if (line != \"\\n\"):\n",
    "            \n",
    "            line = line[:len(line)-1:]\n",
    "            line = [line[i:i+n] for i in range(0, len(line), n)]\n",
    "            print(line)\n",
    "            crates = []\n",
    "            for crate in line:\n",
    "                if crate != \"   \":\n",
    "                    crates.append(crate)\n",
    "            print(crates)\n",
    "            stacks.append(crates)\n",
    "            print(stacks)\n",
    "        else:\n",
    "            break\n",
    "    print(stacks)\n",
    "\n",
    "#def read_procedure (file):\n",
    "\n",
    "\n",
    "tic = time.perf_counter()\n",
    "print(read_crates(\"test.txt\"))\n",
    "toc = time.perf_counter()\n",
    "print(f\"Took {toc - tic:0.4f} seconds\")"
   ]
  },
  {
   "cell_type": "markdown",
   "metadata": {},
   "source": [
    "### Part 2"
   ]
  },
  {
   "cell_type": "code",
   "execution_count": null,
   "metadata": {},
   "outputs": [],
   "source": []
  }
 ],
 "metadata": {
  "kernelspec": {
   "display_name": "Python 3.10.8 64-bit (microsoft store)",
   "language": "python",
   "name": "python3"
  },
  "language_info": {
   "codemirror_mode": {
    "name": "ipython",
    "version": 3
   },
   "file_extension": ".py",
   "mimetype": "text/x-python",
   "name": "python",
   "nbconvert_exporter": "python",
   "pygments_lexer": "ipython3",
   "version": "3.10.8"
  },
  "orig_nbformat": 4,
  "vscode": {
   "interpreter": {
    "hash": "9e509d91f3fabce6c0d918dee244477bc0f0ad4e9650af59dac042007a6cbe78"
   }
  }
 },
 "nbformat": 4,
 "nbformat_minor": 2
}
