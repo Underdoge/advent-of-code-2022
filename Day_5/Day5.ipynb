{
 "cells": [
  {
   "cell_type": "markdown",
   "metadata": {},
   "source": [
    "# Day 5"
   ]
  },
  {
   "cell_type": "markdown",
   "metadata": {},
   "source": [
    "### Part 1"
   ]
  },
  {
   "cell_type": "code",
   "execution_count": 3,
   "metadata": {},
   "outputs": [
    {
     "name": "stdout",
     "output_type": "stream",
     "text": [
      "    [D]    \n",
      " 12\n",
      "[N] [C]    \n",
      " 12\n",
      "[Z] [M] [P]\n",
      " 12\n",
      " 1   2   3 \n",
      " 12\n",
      "\n",
      " 1\n",
      "move 1 from 2 to 1\n",
      " 19\n",
      "move 3 from 1 to 3\n",
      " 19\n",
      "move 2 from 2 to 1\n",
      " 19\n",
      "move 1 from 1 to 2 18\n",
      "None\n",
      "Took 0.0006 seconds\n"
     ]
    }
   ],
   "source": [
    "import time\n",
    "\n",
    "crates = []\n",
    "\n",
    "def read_crates (file):\n",
    "    with open(file) as lines:\n",
    "        for line in lines:\n",
    "            crates\n",
    "                print(line,end=\" \")\n",
    "                print(len(line))\n",
    "\n",
    "#def read_procedure (file):\n",
    "\n",
    "\n",
    "tic = time.perf_counter()\n",
    "print(read_crates(\"test.txt\"))\n",
    "toc = time.perf_counter()\n",
    "print(f\"Took {toc - tic:0.4f} seconds\")"
   ]
  },
  {
   "cell_type": "markdown",
   "metadata": {},
   "source": [
    "### Part 2"
   ]
  },
  {
   "cell_type": "code",
   "execution_count": null,
   "metadata": {},
   "outputs": [],
   "source": []
  }
 ],
 "metadata": {
  "kernelspec": {
   "display_name": "Python 3.10.8 64-bit",
   "language": "python",
   "name": "python3"
  },
  "language_info": {
   "codemirror_mode": {
    "name": "ipython",
    "version": 3
   },
   "file_extension": ".py",
   "mimetype": "text/x-python",
   "name": "python",
   "nbconvert_exporter": "python",
   "pygments_lexer": "ipython3",
   "version": "3.10.8"
  },
  "orig_nbformat": 4,
  "vscode": {
   "interpreter": {
    "hash": "b0fa6594d8f4cbf19f97940f81e996739fb7646882a419484c72d19e05852a7e"
   }
  }
 },
 "nbformat": 4,
 "nbformat_minor": 2
}
