{
 "cells": [
  {
   "cell_type": "markdown",
   "metadata": {},
   "source": [
    "# Day 5"
   ]
  },
  {
   "cell_type": "markdown",
   "metadata": {},
   "source": [
    "### Part 1"
   ]
  },
  {
   "cell_type": "code",
   "execution_count": 2,
   "metadata": {},
   "outputs": [
    {
     "name": "stdout",
     "output_type": "stream",
     "text": [
      "CVCWCRTVQ\n",
      "Took 0.0026 seconds\n"
     ]
    }
   ],
   "source": [
    "import time\n",
    "\n",
    "def read_crates (file):\n",
    "    stacks = []\n",
    "    n = 4\n",
    "    i = int(len(open(file).readline())/4)\n",
    "    r = 0\n",
    "    while i > 0:\n",
    "        stacks.append([])\n",
    "        i -= 1\n",
    "    for line in open(file).readlines():\n",
    "        i = 0\n",
    "        if (line != \"\\n\"):\n",
    "            line = line[:len(line)-1:]\n",
    "            line = [line[i:i+n].strip() for i in range(0, len(line), n)]\n",
    "            for crate in line:\n",
    "                if crate[1:2:] != \"\":\n",
    "                    stacks[i].insert(0,crate[1:2:])\n",
    "                i += 1\n",
    "            r += 1\n",
    "        else:\n",
    "            break\n",
    "    return file,stacks,r\n",
    "\n",
    "def follow_procedure (info):\n",
    "    file,stacks,startrow = info\n",
    "    with open(file) as f:\n",
    "        [next(f) for i in range(startrow+1)]\n",
    "        for line in f:\n",
    "            line = line.rstrip()\n",
    "            line = line.split(\" \")\n",
    "            crates = int(line[1])\n",
    "            from_col = int(line[3])\n",
    "            to_col = int(line[5])\n",
    "            while crates > 0:\n",
    "                stacks[to_col-1].append(stacks[from_col-1].pop())\n",
    "                crates -= 1\n",
    "    return ''.join(list(stacks[i].pop() for i in range(len(stacks))))\n",
    "\n",
    "tic = time.perf_counter()\n",
    "print(follow_procedure(read_crates(\"input5.txt\")))\n",
    "toc = time.perf_counter()\n",
    "print(f\"Took {toc - tic:0.4f} seconds\")"
   ]
  },
  {
   "cell_type": "markdown",
   "metadata": {},
   "source": [
    "### Part 2"
   ]
  },
  {
   "cell_type": "code",
   "execution_count": 28,
   "metadata": {},
   "outputs": [
    {
     "name": "stdout",
     "output_type": "stream",
     "text": [
      "CNSCZWLVT\n",
      "Took 0.0026 seconds\n"
     ]
    }
   ],
   "source": [
    "def CrateMover9001(info):\n",
    "    file,stacks,startrow = info\n",
    "    with open(file) as f:\n",
    "        [next(f) for i in range(startrow+1)]\n",
    "        for line in f:\n",
    "            line = line.rstrip()\n",
    "            line = line.split(\" \")\n",
    "            crates = int(line[1])\n",
    "            from_col = int(line[3])\n",
    "            to_col = int(line[5])\n",
    "            for crate in stacks[from_col-1][-crates:]:\n",
    "                stacks[to_col-1].append(crate)\n",
    "            stacks[from_col-1] = stacks[from_col-1][0:-crates]\n",
    "    return ''.join(list(stacks[i].pop() for i in range(len(stacks))))\n",
    "\n",
    "tic = time.perf_counter()\n",
    "print(CrateMover9001(read_crates(\"input5.txt\")))\n",
    "toc = time.perf_counter()\n",
    "print(f\"Took {toc - tic:0.4f} seconds\")"
   ]
  }
 ],
 "metadata": {
  "kernelspec": {
   "display_name": "Python 3.10.8 64-bit (microsoft store)",
   "language": "python",
   "name": "python3"
  },
  "language_info": {
   "codemirror_mode": {
    "name": "ipython",
    "version": 3
   },
   "file_extension": ".py",
   "mimetype": "text/x-python",
   "name": "python",
   "nbconvert_exporter": "python",
   "pygments_lexer": "ipython3",
   "version": "3.10.8"
  },
  "orig_nbformat": 4,
  "vscode": {
   "interpreter": {
    "hash": "9e509d91f3fabce6c0d918dee244477bc0f0ad4e9650af59dac042007a6cbe78"
   }
  }
 },
 "nbformat": 4,
 "nbformat_minor": 2
}
