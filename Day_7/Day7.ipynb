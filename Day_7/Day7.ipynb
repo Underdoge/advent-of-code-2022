{
 "cells": [
  {
   "cell_type": "markdown",
   "metadata": {},
   "source": [
    "# Day 7"
   ]
  },
  {
   "cell_type": "markdown",
   "metadata": {},
   "source": [
    "### Part 1"
   ]
  },
  {
   "cell_type": "code",
   "execution_count": 75,
   "metadata": {},
   "outputs": [
    {
     "name": "stdout",
     "output_type": "stream",
     "text": [
      "Total: 1581595\n"
     ]
    }
   ],
   "source": [
    "import sys\n",
    "\n",
    "def hash_parents(levels):\n",
    "    parents = \"\"\n",
    "    for level in levels:\n",
    "        parents += level\n",
    "    return str(hash(parents) + sys.maxsize + 1)\n",
    "\n",
    "def build_tree (file):\n",
    "    tree = [{'name': '/', 'parent': None, 'size':0}]\n",
    "    level = []\n",
    "    for line in open(file).readlines():\n",
    "        line = line.rstrip()\n",
    "        output = line.split(\" \")\n",
    "        if output[0] == '$':\n",
    "            if output[1] == 'cd':\n",
    "                if output[2] == '..':\n",
    "                    level.pop()\n",
    "                else:\n",
    "                    level.append(output[2])\n",
    "        elif output[0] == 'dir': #it's a dir\n",
    "            if level[-1] == '/':\n",
    "                tree.append({'name':output[1]+'_'+hash_parents(level),'parent':level[-1],'size':0})\n",
    "            else:\n",
    "                tree.append({'name':output[1]+'_'+hash_parents(level),'parent':level[-1]+'_'+hash_parents(level[0:len(level)-1]),'size':0})\n",
    "        else:\n",
    "            if level[-1] == '/': #it's a file\n",
    "                tree.append({'name':output[1]+'_'+hash_parents(level),'parent':level[-1],'size':int(output[0])})\n",
    "            else:\n",
    "                tree.append({'name':output[1]+'_'+hash_parents(level),'parent':level[-1]+'_'+hash_parents(level[0:len(level)-1]),'size':int(output[0])})\n",
    "    return tree\n",
    "\n",
    "def sum_tree(tree):\n",
    "    sums = {}\n",
    "    dirs = []\n",
    "    total = 0\n",
    "    for line in tree:\n",
    "        if line['parent'] != None:\n",
    "            if line['parent'] not in sums:\n",
    "                sums[line['parent']] = line['size']\n",
    "            else:\n",
    "                sums[line['parent']] += line['size']\n",
    "    for line in tree:\n",
    "        if line['parent'] != None and line['size'] == 0:\n",
    "            dirs.insert(0,{'name':line['name'],'parent':line['parent']})\n",
    "    for pair in dirs:\n",
    "        sums[pair['parent']] += sums[pair['name']]\n",
    "    for val in sums.values():\n",
    "        if val <= 100000:\n",
    "            total += val\n",
    "    return total,sums\n",
    "\n",
    "total,sums = sum_tree(build_tree('input7.txt'))\n",
    "\n",
    "print(f\"Total: {total}\")\n"
   ]
  },
  {
   "attachments": {},
   "cell_type": "markdown",
   "metadata": {},
   "source": [
    "### Part 2"
   ]
  },
  {
   "cell_type": "code",
   "execution_count": 77,
   "metadata": {},
   "outputs": [
    {
     "name": "stdout",
     "output_type": "stream",
     "text": [
      "Size of the smallest dir to delete: 1544176\n"
     ]
    }
   ],
   "source": [
    "import pandas as pd\n",
    "\n",
    "def smallest_dir_than(file,total_size, needed_space):\n",
    "    total,sums = sum_tree(build_tree(file))\n",
    "    dirs = pd.DataFrame({'name':list(sums.keys()),'size':list(sums.values())})\n",
    "    target_size = needed_space - (total_size - int(dirs.iloc[0]['size']))\n",
    "    dirs = dirs.sort_values('size')\n",
    "    return dirs.loc[dirs['size'] > target_size].iloc[0]['size']\n",
    "\n",
    "print(f\"Size of the smallest dir to delete: {smallest_dir_than('input7.txt',70000000,30000000)}\")"
   ]
  }
 ],
 "metadata": {
  "kernelspec": {
   "display_name": "Python 3",
   "language": "python",
   "name": "python3"
  },
  "language_info": {
   "codemirror_mode": {
    "name": "ipython",
    "version": 3
   },
   "file_extension": ".py",
   "mimetype": "text/x-python",
   "name": "python",
   "nbconvert_exporter": "python",
   "pygments_lexer": "ipython3",
   "version": "3.7.9"
  },
  "orig_nbformat": 4,
  "vscode": {
   "interpreter": {
    "hash": "aee8b7b246df8f9039afb4144a1f6fd8d2ca17a180786b69acc140d282b71a49"
   }
  }
 },
 "nbformat": 4,
 "nbformat_minor": 2
}
