{
 "cells": [
  {
   "cell_type": "markdown",
   "metadata": {},
   "source": [
    "# Day 7"
   ]
  },
  {
   "cell_type": "markdown",
   "metadata": {},
   "source": [
    "### Part 1"
   ]
  },
  {
   "cell_type": "code",
   "execution_count": 1,
   "metadata": {},
   "outputs": [
    {
     "name": "stdout",
     "output_type": "stream",
     "text": [
      "Total: 1581595\n"
     ]
    }
   ],
   "source": [
    "import sys\n",
    "\n",
    "def hash_parents(levels):\n",
    "    parents = \"\"\n",
    "    for level in levels:\n",
    "        parents += level\n",
    "    return str(hash(parents) + sys.maxsize + 1)\n",
    "\n",
    "def build_tree (file):\n",
    "    tree = [{'name': '/', 'parent': None, 'size':0}]\n",
    "    level = []\n",
    "    for line in open(file).readlines():\n",
    "        line = line.rstrip()\n",
    "        output = line.split(\" \")\n",
    "        if output[0] == '$':\n",
    "            if output[1] == 'cd':\n",
    "                if output[2] == '..':\n",
    "                    level.pop()\n",
    "                else:\n",
    "                    level.append(output[2])\n",
    "        elif output[0] == 'dir': #it's a dir\n",
    "            if level[-1] == '/':\n",
    "                tree.append({'name':output[1]+'_'+hash_parents(level),'parent':level[-1],'size':0})\n",
    "            else:\n",
    "                tree.append({'name':output[1]+'_'+hash_parents(level),'parent':level[-1]+'_'+hash_parents(level[0:len(level)-1]),'size':0})\n",
    "        else:\n",
    "            if level[-1] == '/': #it's a file\n",
    "                tree.append({'name':output[1]+'_'+hash_parents(level),'parent':level[-1],'size':int(output[0])})\n",
    "            else:\n",
    "                tree.append({'name':output[1]+'_'+hash_parents(level),'parent':level[-1]+'_'+hash_parents(level[0:len(level)-1]),'size':int(output[0])})\n",
    "    return tree\n",
    "\n",
    "def sum_tree(tree):\n",
    "    sums = {}\n",
    "    dirs = []\n",
    "    total = 0\n",
    "    for line in tree:\n",
    "        if line['parent'] != None:\n",
    "            if line['parent'] not in sums:\n",
    "                sums[line['parent']] = line['size']\n",
    "            else:\n",
    "                sums[line['parent']] += line['size']\n",
    "    for line in tree:\n",
    "        if line['parent'] != None and line['size'] == 0:\n",
    "            dirs.insert(0,{'name':line['name'],'parent':line['parent']})\n",
    "    for pair in dirs:\n",
    "        sums[pair['parent']] += sums[pair['name']]\n",
    "    for val in sums.values():\n",
    "        if val <= 100000:\n",
    "            total += val\n",
    "    return total\n",
    "\n",
    "print(f\"Total: {sum_tree(build_tree('input7.txt'))}\")\n",
    "\n"
   ]
  }
 ],
 "metadata": {
  "kernelspec": {
   "display_name": "Python 3.9.15 64-bit",
   "language": "python",
   "name": "python3"
  },
  "language_info": {
   "codemirror_mode": {
    "name": "ipython",
    "version": 3
   },
   "file_extension": ".py",
   "mimetype": "text/x-python",
   "name": "python",
   "nbconvert_exporter": "python",
   "pygments_lexer": "ipython3",
   "version": "3.9.15"
  },
  "orig_nbformat": 4,
  "vscode": {
   "interpreter": {
    "hash": "397704579725e15f5c7cb49fe5f0341eb7531c82d19f2c29d197e8b64ab5776b"
   }
  }
 },
 "nbformat": 4,
 "nbformat_minor": 2
}
