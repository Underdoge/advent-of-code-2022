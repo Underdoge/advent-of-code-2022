{
 "cells": [
  {
   "cell_type": "markdown",
   "metadata": {},
   "source": [
    "# Day 7"
   ]
  },
  {
   "cell_type": "markdown",
   "metadata": {},
   "source": [
    "### Part 1"
   ]
  },
  {
   "cell_type": "code",
   "execution_count": 35,
   "metadata": {},
   "outputs": [
    {
     "name": "stdout",
     "output_type": "stream",
     "text": [
      "{'name': '/', 'size': 0}\n",
      "{'name': 'a', 'parent': '/', 'size': 0}\n",
      "{'name': 'b.txt', 'parent': '/', 'size': 14848514}\n",
      "{'name': 'c.dat', 'parent': '/', 'size': 8504156}\n",
      "{'name': 'd', 'parent': '/', 'size': 0}\n",
      "{'name': 'a', 'size': 0}\n",
      "{'name': 'e', 'parent': 'a', 'size': 0}\n",
      "{'name': 'f', 'parent': 'a', 'size': 29116}\n",
      "{'name': 'g', 'parent': 'a', 'size': 2557}\n",
      "{'name': 'h.lst', 'parent': 'a', 'size': 62596}\n",
      "{'name': 'e', 'size': 0}\n",
      "{'name': 'i', 'parent': 'e', 'size': 584}\n",
      "{'name': 'd', 'size': 0}\n",
      "{'name': 'j', 'parent': 'd', 'size': 4060174}\n",
      "{'name': 'd.log', 'parent': 'd', 'size': 8033020}\n",
      "{'name': 'd.ext', 'parent': 'd', 'size': 5626152}\n",
      "{'name': 'k', 'parent': 'd', 'size': 7214296}\n"
     ]
    }
   ],
   "source": [
    "def build_tree (file):\n",
    "    tree = []\n",
    "    output = []\n",
    "    level = [\"\"]\n",
    "    for line in open(file).readlines():\n",
    "        line = line.rstrip()\n",
    "        output = line.split(\" \")\n",
    "        if output[0] == '$':\n",
    "            if output[1] == 'cd':\n",
    "                if output[2] == '..':\n",
    "                    level.pop()\n",
    "                else:\n",
    "                    level.append(output[2])\n",
    "                    tree.append({'name':output[2], 'size':0 })\n",
    "        elif output[0] == 'dir':\n",
    "            tree.append({'name':output[1],'parent':level[-1],'size':0})\n",
    "        else:\n",
    "            tree.append({'name':output[1],'parent':level[-1],'size':int(output[0])})\n",
    "    for line in tree:\n",
    "        print(line)\n",
    "build_tree(\"test.txt\")"
   ]
  }
 ],
 "metadata": {
  "kernelspec": {
   "display_name": "Python 3.10.8 64-bit (microsoft store)",
   "language": "python",
   "name": "python3"
  },
  "language_info": {
   "codemirror_mode": {
    "name": "ipython",
    "version": 3
   },
   "file_extension": ".py",
   "mimetype": "text/x-python",
   "name": "python",
   "nbconvert_exporter": "python",
   "pygments_lexer": "ipython3",
   "version": "3.10.8"
  },
  "orig_nbformat": 4,
  "vscode": {
   "interpreter": {
    "hash": "9e509d91f3fabce6c0d918dee244477bc0f0ad4e9650af59dac042007a6cbe78"
   }
  }
 },
 "nbformat": 4,
 "nbformat_minor": 2
}
