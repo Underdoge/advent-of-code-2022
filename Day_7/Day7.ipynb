{
 "cells": [
  {
   "cell_type": "markdown",
   "metadata": {},
   "source": [
    "# Day 7"
   ]
  },
  {
   "cell_type": "markdown",
   "metadata": {},
   "source": [
    "### Part 1"
   ]
  },
  {
   "cell_type": "code",
   "execution_count": 4,
   "metadata": {},
   "outputs": [
    {
     "name": "stdout",
     "output_type": "stream",
     "text": [
      "Command: ['$', 'cd', '/']\n",
      "Command: ['$', 'ls']\n",
      "Command: ['dir', 'a']\n",
      "Command: ['14848514', 'b.txt']\n",
      "Command: ['8504156', 'c.dat']\n",
      "Command: ['dir', 'd']\n",
      "Command: ['$', 'cd', 'a']\n",
      "Command: ['$', 'ls']\n",
      "Command: ['dir', 'e']\n",
      "Command: ['29116', 'f']\n",
      "Command: ['2557', 'g']\n",
      "Command: ['62596', 'h.lst']\n",
      "Command: ['$', 'cd', 'e']\n",
      "Command: ['$', 'ls']\n",
      "Command: ['584', 'i']\n",
      "Command: ['$', 'cd', '..']\n",
      "Command: ['$', 'cd', '..']\n",
      "Command: ['$', 'cd', 'd']\n",
      "Command: ['$', 'ls']\n",
      "Command: ['4060174', 'j']\n",
      "Command: ['8033020', 'd.log']\n",
      "Command: ['5626152', 'd.ext']\n",
      "Command: ['7214296', 'k']\n"
     ]
    }
   ],
   "source": [
    "def build_tree (file):\n",
    "    tree = []\n",
    "    output = []\n",
    "    last_command = ''\n",
    "    current_level = ''\n",
    "    previous_level = ''\n",
    "    for line in open(file).readlines():\n",
    "        line = line.rstrip()\n",
    "        output = line.split(\" \")\n",
    "        if output[0] == '$':\n",
    "            if output[1] == 'cd':\n",
    "                last_command = 'cd'\n",
    "                if output[2] == '..':\n",
    "                    current_level = previous_level\n",
    "                    print(f\"back one directory, current level: ${current_level}\")\n",
    "                else:\n",
    "                    print(f\"make directory with name {output[3]}\")\n",
    "                    previous_level = current_level\n",
    "                    current_level = output[3]\n",
    "                    tree.append({output[3]:{'children':{}}}\n",
    "            elif output[1] == 'ls':\n",
    "                last_command = 'ls'\n",
    "\n",
    "\n",
    "\n",
    "\n",
    "\n",
    "\n",
    "\n",
    "build_tree(\"test.txt\")"
   ]
  }
 ],
 "metadata": {
  "kernelspec": {
   "display_name": "Python 3.9.15 64-bit",
   "language": "python",
   "name": "python3"
  },
  "language_info": {
   "codemirror_mode": {
    "name": "ipython",
    "version": 3
   },
   "file_extension": ".py",
   "mimetype": "text/x-python",
   "name": "python",
   "nbconvert_exporter": "python",
   "pygments_lexer": "ipython3",
   "version": "3.9.15"
  },
  "orig_nbformat": 4,
  "vscode": {
   "interpreter": {
    "hash": "397704579725e15f5c7cb49fe5f0341eb7531c82d19f2c29d197e8b64ab5776b"
   }
  }
 },
 "nbformat": 4,
 "nbformat_minor": 2
}
