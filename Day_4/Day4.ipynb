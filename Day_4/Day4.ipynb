{
 "cells": [
  {
   "cell_type": "markdown",
   "metadata": {},
   "source": [
    "# Day 4"
   ]
  },
  {
   "cell_type": "markdown",
   "metadata": {},
   "source": [
    "### Part 1"
   ]
  },
  {
   "cell_type": "code",
   "execution_count": 1,
   "metadata": {},
   "outputs": [
    {
     "name": "stdout",
     "output_type": "stream",
     "text": [
      "305\n",
      "Took 0.0284 seconds\n"
     ]
    }
   ],
   "source": [
    "import time\n",
    "\n",
    "def contained_pairs(file):\n",
    "    total = 0\n",
    "    for pair in open(file).readlines():\n",
    "            (one, two) = pair.split(\",\")\n",
    "            one = one.split(\"-\")\n",
    "            two = two.split(\"-\")\n",
    "            one = set(list(range(int(one[0]),int(one[1])+1)))\n",
    "            two = list(range(int(two[0]),int(two[1])+1))\n",
    "            if (len(one.intersection(two)) > 0 and (len(one.intersection(two)) == len(one) or len(one.intersection(two)) == len(two))):\n",
    "                total += 1\n",
    "    return total\n",
    "\n",
    "tic = time.perf_counter()\n",
    "print(contained_pairs(\"input4.txt\"))\n",
    "toc = time.perf_counter()\n",
    "print(f\"Took {toc - tic:0.4f} seconds\")"
   ]
  },
  {
   "cell_type": "markdown",
   "metadata": {},
   "source": [
    "### Part 2"
   ]
  },
  {
   "cell_type": "code",
   "execution_count": 4,
   "metadata": {},
   "outputs": [
    {
     "name": "stdout",
     "output_type": "stream",
     "text": [
      "811\n",
      "Took 0.0104 seconds\n"
     ]
    }
   ],
   "source": [
    "def overlapped_pairs(file):\n",
    "    total = 0\n",
    "    for pair in open(file).readlines():\n",
    "            (one, two) = pair.split(\",\")\n",
    "            one = one.split(\"-\")\n",
    "            two = two.split(\"-\")\n",
    "            one = set(list(range(int(one[0]),int(one[1])+1)))\n",
    "            two = list(range(int(two[0]),int(two[1])+1))\n",
    "            if (len(one.intersection(two)) > 0):\n",
    "                total += 1\n",
    "    return total\n",
    "\n",
    "tic = time.perf_counter()\n",
    "print(overlapped_pairs(\"input4.txt\"))\n",
    "toc = time.perf_counter()\n",
    "print(f\"Took {toc - tic:0.4f} seconds\")"
   ]
  }
 ],
 "metadata": {
  "kernelspec": {
   "display_name": "Python 3.10.8 64-bit (microsoft store)",
   "language": "python",
   "name": "python3"
  },
  "language_info": {
   "codemirror_mode": {
    "name": "ipython",
    "version": 3
   },
   "file_extension": ".py",
   "mimetype": "text/x-python",
   "name": "python",
   "nbconvert_exporter": "python",
   "pygments_lexer": "ipython3",
   "version": "3.10.8"
  },
  "orig_nbformat": 4,
  "vscode": {
   "interpreter": {
    "hash": "9e509d91f3fabce6c0d918dee244477bc0f0ad4e9650af59dac042007a6cbe78"
   }
  }
 },
 "nbformat": 4,
 "nbformat_minor": 2
}
