{
 "cells": [
  {
   "cell_type": "markdown",
   "metadata": {},
   "source": [
    "# DAY 3"
   ]
  },
  {
   "cell_type": "markdown",
   "metadata": {},
   "source": [
    "### Part 1"
   ]
  },
  {
   "cell_type": "code",
   "execution_count": 32,
   "metadata": {},
   "outputs": [
    {
     "data": {
      "text/plain": [
       "7568"
      ]
     },
     "execution_count": 32,
     "metadata": {},
     "output_type": "execute_result"
    }
   ],
   "source": [
    "def arrange_compartments(file):\n",
    "    total = 0\n",
    "    with open(file) as rucksacks:\n",
    "        for rucksack in rucksacks:\n",
    "                rucksack = rucksack.rstrip()\n",
    "                (one, two) = (rucksack[0:int(len(rucksack)/2):], rucksack[int(len(rucksack)/2)::])\n",
    "                for letter in one:\n",
    "                    if letter in two:\n",
    "                        if ord(letter) >= 97:\n",
    "                            total += ord(letter) - 96\n",
    "                        else:\n",
    "                            total += ord(letter) - 38\n",
    "                        break\n",
    "    return total\n",
    "\n",
    "arrange_compartments(\"input3.txt\")"
   ]
  },
  {
   "cell_type": "markdown",
   "metadata": {},
   "source": [
    "### Part 2"
   ]
  },
  {
   "cell_type": "code",
   "execution_count": 47,
   "metadata": {},
   "outputs": [
    {
     "data": {
      "text/plain": [
       "2780"
      ]
     },
     "execution_count": 47,
     "metadata": {},
     "output_type": "execute_result"
    }
   ],
   "source": [
    "def count_badges(file):\n",
    "    total = 0\n",
    "    line = 0\n",
    "    group = []\n",
    "    with open(file) as rucksacks:\n",
    "        for rucksack in rucksacks:\n",
    "            rucksack = rucksack.rstrip()\n",
    "            if line <= 2:\n",
    "                group.append(rucksack)\n",
    "                line += 1\n",
    "            if line == 3:\n",
    "                for letter in group[0]:\n",
    "                    if letter in group[1] and letter in group [2]:\n",
    "                        if ord(letter) >= 97:\n",
    "                            total += ord(letter) - 96\n",
    "                        else:\n",
    "                            total += ord(letter) - 38\n",
    "                        break\n",
    "                group = []\n",
    "                line = 0\n",
    "            \n",
    "    return total\n",
    "\n",
    "count_badges(\"input3.txt\")"
   ]
  }
 ],
 "metadata": {
  "kernelspec": {
   "display_name": "Python 3.10.8 64-bit (microsoft store)",
   "language": "python",
   "name": "python3"
  },
  "language_info": {
   "codemirror_mode": {
    "name": "ipython",
    "version": 3
   },
   "file_extension": ".py",
   "mimetype": "text/x-python",
   "name": "python",
   "nbconvert_exporter": "python",
   "pygments_lexer": "ipython3",
   "version": "3.10.8"
  },
  "orig_nbformat": 4,
  "vscode": {
   "interpreter": {
    "hash": "9e509d91f3fabce6c0d918dee244477bc0f0ad4e9650af59dac042007a6cbe78"
   }
  }
 },
 "nbformat": 4,
 "nbformat_minor": 2
}
