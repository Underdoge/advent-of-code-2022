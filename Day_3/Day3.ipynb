{
 "cells": [
  {
   "cell_type": "markdown",
   "metadata": {},
   "source": [
    "# DAY 3"
   ]
  },
  {
   "cell_type": "markdown",
   "metadata": {},
   "source": [
    "### Part 1"
   ]
  },
  {
   "cell_type": "code",
   "execution_count": 19,
   "metadata": {},
   "outputs": [
    {
     "name": "stdout",
     "output_type": "stream",
     "text": [
      "7568\n",
      "Took 0.0009 seconds\n"
     ]
    }
   ],
   "source": [
    "import time\n",
    "\n",
    "def arrange_compartments(file):\n",
    "    total = 0\n",
    "    with open(file) as rucksacks:\n",
    "        for rucksack in rucksacks:\n",
    "                rucksack = rucksack.rstrip()\n",
    "                (one, two) = (rucksack[0:int(len(rucksack)/2):], rucksack[int(len(rucksack)/2)::])\n",
    "                for letter in one:\n",
    "                    if letter in two:\n",
    "                        if ord(letter) >= 97:\n",
    "                            total += ord(letter) - 96\n",
    "                        else:\n",
    "                            total += ord(letter) - 38\n",
    "                        break\n",
    "    return total\n",
    "tic = time.perf_counter()\n",
    "print(arrange_compartments(\"input3.txt\"))\n",
    "toc = time.perf_counter()\n",
    "print(f\"Took {toc - tic:0.4f} seconds\")"
   ]
  },
  {
   "cell_type": "markdown",
   "metadata": {},
   "source": [
    "### Part 1 Alt version"
   ]
  },
  {
   "cell_type": "code",
   "execution_count": 26,
   "metadata": {},
   "outputs": [
    {
     "name": "stdout",
     "output_type": "stream",
     "text": [
      "7568\n",
      "Took 0.0006 seconds\n"
     ]
    }
   ],
   "source": [
    "vals = {'a':1,'b':2,'c':3,'d':4,'e':5,'f':6,'g':7,'h':8,'i':9,'j':10,'k':11,'l':12,'m':13,'n':14,'o':15,'p':16,'q':17,'r':18,'s':19,'t':20,'u':21,'v':22,'w':23,'x':24,'y':25,'z':26,\\\n",
    "        'A':27,'B':28,'C':29,'D':30,'E':31,'F':32,'G':33,'H':34,'I':35,'J':36,'K':37,'L':38,'M':39,'N':40,'O':41,'P':42,'Q':43,'R':44,'S':45,'T':46,'U':47,'V':48,'W':49,'X':50,'Y':51,'Z':52}\n",
    "\n",
    "def arrange_compartments_alt(file):\n",
    "    total = 0\n",
    "    with open(file) as rucksacks:\n",
    "        for rucksack in rucksacks:\n",
    "                rucksack = rucksack.rstrip()\n",
    "                (one, two) = (rucksack[0:int(len(rucksack)/2):], rucksack[int(len(rucksack)/2)::])\n",
    "                for letter in one:\n",
    "                    if letter in two:\n",
    "                        total += vals[letter]\n",
    "                        break\n",
    "    return total\n",
    "tic = time.perf_counter()\n",
    "print(arrange_compartments_alt(\"input3.txt\"))\n",
    "toc = time.perf_counter()\n",
    "print(f\"Took {toc - tic:0.4f} seconds\")"
   ]
  },
  {
   "cell_type": "markdown",
   "metadata": {},
   "source": [
    "### Part 2"
   ]
  },
  {
   "cell_type": "code",
   "execution_count": 55,
   "metadata": {},
   "outputs": [
    {
     "name": "stdout",
     "output_type": "stream",
     "text": [
      "2780\n",
      "Took 0.0008 seconds\n"
     ]
    }
   ],
   "source": [
    "def count_badges(file):\n",
    "    total = 0\n",
    "    line = 0\n",
    "    group = []\n",
    "    with open(file) as rucksacks:\n",
    "        for rucksack in rucksacks:\n",
    "            rucksack = rucksack.rstrip()\n",
    "            if line <= 2:\n",
    "                group.append(rucksack)\n",
    "                line += 1\n",
    "            if line == 3:\n",
    "                for letter in group[0]:\n",
    "                    if letter in group[1] and letter in group [2]:\n",
    "                        if ord(letter) >= 97:\n",
    "                            total += ord(letter) - 96\n",
    "                        else:\n",
    "                            total += ord(letter) - 38\n",
    "                        break\n",
    "                group = []\n",
    "                line = 0\n",
    "            \n",
    "    return total\n",
    "\n",
    "tic = time.perf_counter()\n",
    "print(count_badges(\"input3.txt\"))\n",
    "toc = time.perf_counter()\n",
    "print(f\"Took {toc - tic:0.4f} seconds\")"
   ]
  },
  {
   "cell_type": "markdown",
   "metadata": {},
   "source": [
    "### Part 2 Alt version"
   ]
  },
  {
   "cell_type": "code",
   "execution_count": 49,
   "metadata": {},
   "outputs": [
    {
     "name": "stdout",
     "output_type": "stream",
     "text": [
      "2780\n",
      "Took 0.0006 seconds\n"
     ]
    }
   ],
   "source": [
    "vals = {'a':1,'b':2,'c':3,'d':4,'e':5,'f':6,'g':7,'h':8,'i':9,'j':10,'k':11,'l':12,'m':13,'n':14,'o':15,'p':16,'q':17,'r':18,'s':19,'t':20,'u':21,'v':22,'w':23,'x':24,'y':25,'z':26,\\\n",
    "        'A':27,'B':28,'C':29,'D':30,'E':31,'F':32,'G':33,'H':34,'I':35,'J':36,'K':37,'L':38,'M':39,'N':40,'O':41,'P':42,'Q':43,'R':44,'S':45,'T':46,'U':47,'V':48,'W':49,'X':50,'Y':51,'Z':52}\n",
    "\n",
    "def count_badges_alt(file):\n",
    "    total = 0\n",
    "    line = 0\n",
    "    group = []\n",
    "    with open(file) as rucksacks:\n",
    "        for rucksack in rucksacks:\n",
    "            rucksack = rucksack.rstrip()\n",
    "            if line <= 2:\n",
    "                group.append(rucksack)\n",
    "                line += 1\n",
    "            if line == 3:\n",
    "                for letter in group[0]:\n",
    "                    if letter in group[1] and letter in group [2]:\n",
    "                        total += vals[letter]\n",
    "                        break\n",
    "                group = []\n",
    "                line = 0\n",
    "            \n",
    "    return total\n",
    "\n",
    "tic = time.perf_counter()\n",
    "print(count_badges_alt(\"input3.txt\"))\n",
    "toc = time.perf_counter()\n",
    "print(f\"Took {toc - tic:0.4f} seconds\")"
   ]
  }
 ],
 "metadata": {
  "kernelspec": {
   "display_name": "Python 3.10.8 64-bit",
   "language": "python",
   "name": "python3"
  },
  "language_info": {
   "codemirror_mode": {
    "name": "ipython",
    "version": 3
   },
   "file_extension": ".py",
   "mimetype": "text/x-python",
   "name": "python",
   "nbconvert_exporter": "python",
   "pygments_lexer": "ipython3",
   "version": "3.10.8"
  },
  "orig_nbformat": 4,
  "vscode": {
   "interpreter": {
    "hash": "b0fa6594d8f4cbf19f97940f81e996739fb7646882a419484c72d19e05852a7e"
   }
  }
 },
 "nbformat": 4,
 "nbformat_minor": 2
}
