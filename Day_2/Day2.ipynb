{
 "cells": [
  {
   "cell_type": "markdown",
   "metadata": {},
   "source": [
    "# DAY 2"
   ]
  },
  {
   "cell_type": "markdown",
   "metadata": {},
   "source": [
    "### Part 1"
   ]
  },
  {
   "cell_type": "code",
   "execution_count": 1,
   "metadata": {},
   "outputs": [
    {
     "name": "stdout",
     "output_type": "stream",
     "text": [
      "Total score: 10595\n"
     ]
    }
   ],
   "source": [
    "def rock_paper_scissors(file):\n",
    "    total = 0\n",
    "    hand_values = {'X': {'A': 4, 'B': 1, 'C': 7}, 'Y': {'A': 8, 'B': 5, 'C': 2}, 'Z': {'A':3, 'B':9, 'C': 6}}\n",
    "    for line in open(file).readlines():\n",
    "        hands = line.splitlines(False)[0].split(\" \")\n",
    "        total += hand_values[hands[1]][hands[0]]\n",
    "    return total\n",
    "\n",
    "print(f\"Total score: {rock_paper_scissors('input2.txt')}\")"
   ]
  },
  {
   "cell_type": "markdown",
   "metadata": {},
   "source": [
    "### Part 2"
   ]
  },
  {
   "cell_type": "code",
   "execution_count": 2,
   "metadata": {},
   "outputs": [
    {
     "name": "stdout",
     "output_type": "stream",
     "text": [
      "Total score: 9541\n"
     ]
    }
   ],
   "source": [
    "def rock_paper_scissors(file):\n",
    "    total = 0\n",
    "    hand_values = {'A': {'X': 3, 'Y': 4, 'Z': 8}, 'B': {'X': 1, 'Y': 5, 'Z': 9}, 'C': {'X':2, 'Y':6, 'Z': 7}}\n",
    "    for line in open(file).readlines():\n",
    "        hands = line.splitlines(False)[0].split(\" \")\n",
    "        total += hand_values[hands[0]][hands[1]]\n",
    "    return total\n",
    "\n",
    "print(f\"Total score: {rock_paper_scissors('input2.txt')}\")"
   ]
  }
 ],
 "metadata": {
  "kernelspec": {
   "display_name": "Python 3.10.8 64-bit (microsoft store)",
   "language": "python",
   "name": "python3"
  },
  "language_info": {
   "codemirror_mode": {
    "name": "ipython",
    "version": 3
   },
   "file_extension": ".py",
   "mimetype": "text/x-python",
   "name": "python",
   "nbconvert_exporter": "python",
   "pygments_lexer": "ipython3",
   "version": "3.10.8"
  },
  "orig_nbformat": 4,
  "vscode": {
   "interpreter": {
    "hash": "9e509d91f3fabce6c0d918dee244477bc0f0ad4e9650af59dac042007a6cbe78"
   }
  }
 },
 "nbformat": 4,
 "nbformat_minor": 2
}
