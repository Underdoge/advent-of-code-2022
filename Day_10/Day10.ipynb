{
 "cells": [
  {
   "attachments": {},
   "cell_type": "markdown",
   "metadata": {},
   "source": [
    "# Day 10"
   ]
  },
  {
   "attachments": {},
   "cell_type": "markdown",
   "metadata": {},
   "source": [
    "### Part 1"
   ]
  },
  {
   "cell_type": "code",
   "execution_count": 21,
   "metadata": {},
   "outputs": [
    {
     "data": {
      "text/plain": [
       "13140"
      ]
     },
     "execution_count": 21,
     "metadata": {},
     "output_type": "execute_result"
    }
   ],
   "source": [
    "def cycles(file,cycles):\n",
    "    register = 1\n",
    "    cycle = 1\n",
    "    instruction_cycles = {'addx':2,'noop':1}\n",
    "    strengths_sum = 0\n",
    "    for line in open(file).read().splitlines():\n",
    "        operation = line.split(\" \")\n",
    "        for i in range(instruction_cycles[operation[0]]):\n",
    "            if i == 0:\n",
    "                if cycle in cycles:\n",
    "                    strengths_sum += register * cycle\n",
    "            if i == 1:\n",
    "                if cycle in cycles:\n",
    "                    strengths_sum += register * cycle\n",
    "                register += int(operation[1])\n",
    "                \n",
    "            #print(f\"i {i} cycle {cycle} register {register} signal_strength {register * cycle} strengths_sum {strengths_sum} operation {operation} instruction_cycles[operation[0]] {instruction_cycles[operation[0]]}\")\n",
    "            cycle += 1\n",
    "    return strengths_sum\n",
    "cycles('input10.txt',[20,60,100,140,180,220])"
   ]
  },
  {
   "attachments": {},
   "cell_type": "markdown",
   "metadata": {},
   "source": [
    "### Part 2"
   ]
  },
  {
   "cell_type": "code",
   "execution_count": null,
   "metadata": {},
   "outputs": [],
   "source": [
    "def draw_CRT(image,width,height):\n",
    "    for x in height:\n",
    "        for y in width:\n",
    "            print(image[(height*y)+height])\n",
    "\n",
    "def race_the_beam(file,width,height):\n",
    "    register = 1\n",
    "    image = []\n",
    "    for x in height:\n",
    "        for y in width:\n",
    "            image.append('.')\n",
    "    print(image,width,height)\n",
    "    cycle = 1\n",
    "    instruction_cycles = {'addx':2,'noop':1}\n",
    "    strengths_sum = 0\n",
    "    for line in open(file).read().splitlines():\n",
    "        operation = line.split(\" \")\n",
    "        for i in range(instruction_cycles[operation[0]]):\n",
    "            if i == 0:\n",
    "                if cycle >= register and cycle <= register + 3:\n",
    "                    image[cycle] = \"#\"\n",
    "                else:\n",
    "                    image[cycle] = \".\"\n",
    "            if i == 1:\n",
    "                if cycle >= register and cycle <= register + 3:\n",
    "                    image[cycle] = \"#\"\n",
    "                else:\n",
    "                    image[cycle] = \".\"\n",
    "                register += int(operation[1])\n",
    "                if cycle >= register and cycle <= register + 3:\n",
    "                    image[cycle] = \"#\"\n",
    "                else:\n",
    "                    image[cycle] = \".\"\n",
    "            #print(f\"i {i} cycle {cycle} register {register} signal_strength {register * cycle} strengths_sum {strengths_sum} operation {operation} instruction_cycles[operation[0]] {instruction_cycles[operation[0]]}\")\n",
    "            cycle += 1\n",
    "    return strengths_sum\n",
    "race_the_beam('test.txt',80,6)"
   ]
  }
 ],
 "metadata": {
  "kernelspec": {
   "display_name": "Python 3",
   "language": "python",
   "name": "python3"
  },
  "language_info": {
   "codemirror_mode": {
    "name": "ipython",
    "version": 3
   },
   "file_extension": ".py",
   "mimetype": "text/x-python",
   "name": "python",
   "nbconvert_exporter": "python",
   "pygments_lexer": "ipython3",
   "version": "3.10.8 (main, Oct 13 2022, 09:48:40) [Clang 14.0.0 (clang-1400.0.29.102)]"
  },
  "orig_nbformat": 4,
  "vscode": {
   "interpreter": {
    "hash": "b0fa6594d8f4cbf19f97940f81e996739fb7646882a419484c72d19e05852a7e"
   }
  }
 },
 "nbformat": 4,
 "nbformat_minor": 2
}
