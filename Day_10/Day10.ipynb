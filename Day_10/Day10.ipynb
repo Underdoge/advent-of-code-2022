{
 "cells": [
  {
   "attachments": {},
   "cell_type": "markdown",
   "metadata": {},
   "source": [
    "# Day 10"
   ]
  },
  {
   "attachments": {},
   "cell_type": "markdown",
   "metadata": {},
   "source": [
    "### Part 1"
   ]
  },
  {
   "cell_type": "code",
   "execution_count": 41,
   "metadata": {},
   "outputs": [
    {
     "data": {
      "text/plain": [
       "17380"
      ]
     },
     "execution_count": 41,
     "metadata": {},
     "output_type": "execute_result"
    }
   ],
   "source": [
    "def cycles(file,cycles,instruction_cycles):\n",
    "    register = 1\n",
    "    cycle = 1\n",
    "    strengths_sum = 0\n",
    "    for line in open(file).read().splitlines():\n",
    "        operation = line.split(\" \")\n",
    "        for i in range(instruction_cycles[operation[0]]):\n",
    "            if i == 0:\n",
    "                if cycle in cycles:\n",
    "                    strengths_sum += register * cycle\n",
    "            if i == 1:\n",
    "                if cycle in cycles:\n",
    "                    strengths_sum += register * cycle\n",
    "                register += int(operation[1])\n",
    "            cycle += 1\n",
    "    return strengths_sum\n",
    "cycles('input10.txt',[20,60,100,140,180,220],{'addx':2,'noop':1})"
   ]
  },
  {
   "attachments": {},
   "cell_type": "markdown",
   "metadata": {},
   "source": [
    "### Part 2"
   ]
  },
  {
   "cell_type": "code",
   "execution_count": 40,
   "metadata": {},
   "outputs": [
    {
     "name": "stdout",
     "output_type": "stream",
     "text": [
      "####..##...##..#..#.####.###..####..##..\n",
      "#....#..#.#..#.#..#....#.#..#.#....#..#.\n",
      "###..#....#....#..#...#..#..#.###..#....\n",
      "#....#.##.#....#..#..#...###..#....#....\n",
      "#....#..#.#..#.#..#.#....#.#..#....#..#.\n",
      "#.....###..##...##..####.#..#.####..##..\n",
      "\n"
     ]
    }
   ],
   "source": [
    "def draw_CRT(image,width,height):\n",
    "    x = 0\n",
    "    for j in range(height):\n",
    "        for i in range(width):\n",
    "            print(image[x],end=\"\")\n",
    "            x += 1\n",
    "        print(\"\")\n",
    "    print(\"\")\n",
    "\n",
    "def race_the_beam(file,width,height,instruction_cycles):\n",
    "    register = 1\n",
    "    image = []\n",
    "    cycle = 1\n",
    "    sprite_pos = 1\n",
    "    for line in open(file).read().splitlines():\n",
    "        operation = line.split(\" \")\n",
    "        for i in range(instruction_cycles[operation[0]]):\n",
    "            if i == 0:\n",
    "                if sprite_pos >= register and sprite_pos <= register + 2:\n",
    "                    image.append(\"#\")\n",
    "                else:\n",
    "                    image.append(\".\")\n",
    "            if i == 1:\n",
    "                if sprite_pos >= register and sprite_pos <= register + 2:\n",
    "                    image.append(\"#\")\n",
    "                else:\n",
    "                    image.append(\".\")\n",
    "                register += int(operation[1])\n",
    "            if cycle % width == 0:\n",
    "                sprite_pos = 0\n",
    "            cycle += 1\n",
    "            sprite_pos += 1\n",
    "    draw_CRT(image,width,height)\n",
    "\n",
    "race_the_beam('input10.txt',40,6,{'addx':2,'noop':1})"
   ]
  }
 ],
 "metadata": {
  "kernelspec": {
   "display_name": "Python 3",
   "language": "python",
   "name": "python3"
  },
  "language_info": {
   "codemirror_mode": {
    "name": "ipython",
    "version": 3
   },
   "file_extension": ".py",
   "mimetype": "text/x-python",
   "name": "python",
   "nbconvert_exporter": "python",
   "pygments_lexer": "ipython3",
   "version": "3.10.8"
  },
  "orig_nbformat": 4,
  "vscode": {
   "interpreter": {
    "hash": "b0fa6594d8f4cbf19f97940f81e996739fb7646882a419484c72d19e05852a7e"
   }
  }
 },
 "nbformat": 4,
 "nbformat_minor": 2
}
