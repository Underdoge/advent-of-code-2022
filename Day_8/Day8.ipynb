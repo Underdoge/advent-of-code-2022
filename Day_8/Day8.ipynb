{
 "cells": [
  {
   "cell_type": "code",
   "execution_count": 39,
   "metadata": {},
   "outputs": [
    {
     "name": "stdout",
     "output_type": "stream",
     "text": [
      "\n",
      "\n",
      "5,5,1,\n",
      "\n",
      "5,3,3,\n",
      "\n",
      "3,5,4,\n",
      "\n"
     ]
    }
   ],
   "source": [
    "def read_trees(file):\n",
    "    matrix = []\n",
    "    for line in open(file).readlines():\n",
    "        trees = [*str(line.rstrip())]\n",
    "        for tree in trees:\n",
    "            trees[trees.index(tree)] = int(tree)\n",
    "        matrix.append(trees)\n",
    "    return matrix\n",
    "\n",
    "def is_visible(x,y):\n",
    "    \n",
    "\n",
    "def visible_trees(matrix):\n",
    "    edge_trees = len(matrix)*len(matrix[0])-4\n",
    "\n",
    "    for y in range(len(matrix)-1):\n",
    "        for x in range(len(matrix[0])-1):\n",
    "            if (y>0 and x>0 ):\n",
    "                print(matrix[y][x],end=\",\")\n",
    "        print(\"\\n\")\n",
    "        \n",
    "\n",
    "    \n",
    "\n",
    "def print_trees(trees):\n",
    "    for line in trees:\n",
    "        print(line)\n",
    "\n",
    "visible_trees(read_trees('test.txt'))"
   ]
  }
 ],
 "metadata": {
  "kernelspec": {
   "display_name": "Python 3",
   "language": "python",
   "name": "python3"
  },
  "language_info": {
   "codemirror_mode": {
    "name": "ipython",
    "version": 3
   },
   "file_extension": ".py",
   "mimetype": "text/x-python",
   "name": "python",
   "nbconvert_exporter": "python",
   "pygments_lexer": "ipython3",
   "version": "3.9.15"
  },
  "orig_nbformat": 4,
  "vscode": {
   "interpreter": {
    "hash": "397704579725e15f5c7cb49fe5f0341eb7531c82d19f2c29d197e8b64ab5776b"
   }
  }
 },
 "nbformat": 4,
 "nbformat_minor": 2
}
