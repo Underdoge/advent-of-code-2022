{
 "cells": [
  {
   "cell_type": "markdown",
   "metadata": {},
   "source": [
    "# DAY ONE"
   ]
  },
  {
   "cell_type": "markdown",
   "metadata": {},
   "source": [
    "### Part 1"
   ]
  },
  {
   "cell_type": "code",
   "execution_count": 2,
   "metadata": {},
   "outputs": [
    {
     "name": "stdout",
     "output_type": "stream",
     "text": [
      "\n",
      "The elf with most calories is elf_150 with 71471 calories.\n"
     ]
    }
   ],
   "source": [
    "def top_elf(file):\n",
    "    written = 1\n",
    "    elf_cals = 0\n",
    "    calories_per_elf = {}\n",
    "    with open(file) as elf_food:\n",
    "        for line in elf_food:\n",
    "            if (line == \"\\n\"):\n",
    "                calories_per_elf['elf_'+str(written)] = elf_cals\n",
    "                elf_cals = 0\n",
    "                written += 1\n",
    "            else:\n",
    "                elf_cals += int(line)\n",
    "    max_cals = max(calories_per_elf.values())\n",
    "    return (calories_per_elf,list(calories_per_elf.keys())[list(calories_per_elf.values()).index(max_cals)], max_cals)\n",
    "(calories_per_elf,elf,top_cals) = top_elf(\"input1.txt\")\n",
    "print(f\"\\nThe elf with most calories is {elf} with {top_cals} calories.\")\n",
    "\n"
   ]
  },
  {
   "cell_type": "markdown",
   "metadata": {},
   "source": [
    "### Part 2"
   ]
  },
  {
   "cell_type": "code",
   "execution_count": 4,
   "metadata": {},
   "outputs": [
    {
     "name": "stdout",
     "output_type": "stream",
     "text": [
      "Top 1 elf has 69195 calories\n",
      "Top 2 elf has 68194 calories\n",
      "Top 3 elf has 65984 calories\n",
      "\n",
      "The top three elves carry 203373 calories in total.\n"
     ]
    }
   ],
   "source": [
    "top1 = max(calories_per_elf.values())\n",
    "print(f\"Top 1 elf has {top1} calories\")\n",
    "del(calories_per_elf[list(calories_per_elf.keys())[list(calories_per_elf.values()).index(top1)]])\n",
    "top2 = max(calories_per_elf.values())\n",
    "print(f\"Top 2 elf has {top2} calories\")\n",
    "del(calories_per_elf[list(calories_per_elf.keys())[list(calories_per_elf.values()).index(top2)]])\n",
    "top3 = max(calories_per_elf.values())\n",
    "print(f\"Top 3 elf has {top3} calories\")\n",
    "total = top1 + top2 + top3\n",
    "print(f\"\\nThe top three elves carry {total} calories in total.\")"
   ]
  }
 ],
 "metadata": {
  "kernelspec": {
   "display_name": "Python 3.10.8 64-bit (microsoft store)",
   "language": "python",
   "name": "python3"
  },
  "language_info": {
   "codemirror_mode": {
    "name": "ipython",
    "version": 3
   },
   "file_extension": ".py",
   "mimetype": "text/x-python",
   "name": "python",
   "nbconvert_exporter": "python",
   "pygments_lexer": "ipython3",
   "version": "3.10.8"
  },
  "orig_nbformat": 4,
  "vscode": {
   "interpreter": {
    "hash": "9e509d91f3fabce6c0d918dee244477bc0f0ad4e9650af59dac042007a6cbe78"
   }
  }
 },
 "nbformat": 4,
 "nbformat_minor": 2
}
