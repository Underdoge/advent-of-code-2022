{
 "cells": [
  {
   "cell_type": "markdown",
   "metadata": {},
   "source": [
    "# DAY 1"
   ]
  },
  {
   "cell_type": "markdown",
   "metadata": {},
   "source": [
    "### Part 1"
   ]
  },
  {
   "cell_type": "code",
   "execution_count": 1,
   "metadata": {},
   "outputs": [
    {
     "name": "stdout",
     "output_type": "stream",
     "text": [
      "\n",
      "The elf with most calories is elf_150 with 71471 calories.\n"
     ]
    }
   ],
   "source": [
    "def top_elf(file):\n",
    "    written = 1\n",
    "    elf_cals = 0\n",
    "    calories_per_elf = {}\n",
    "    with open(file) as elf_food:\n",
    "        for line in elf_food:\n",
    "            if (line == \"\\n\"):\n",
    "                calories_per_elf['elf_'+str(written)] = elf_cals\n",
    "                elf_cals = 0\n",
    "                written += 1\n",
    "            else:\n",
    "                elf_cals += int(line)\n",
    "    max_cals = max(calories_per_elf.values())\n",
    "    return (calories_per_elf,list(calories_per_elf.keys())[list(calories_per_elf.values()).index(max_cals)], max_cals)\n",
    "(calories_per_elf,elf,top_cals) = top_elf(\"input1.txt\")\n",
    "print(f\"\\nThe elf with most calories is {elf} with {top_cals} calories.\")"
   ]
  },
  {
   "cell_type": "markdown",
   "metadata": {},
   "source": [
    "### Part 2"
   ]
  },
  {
   "cell_type": "code",
   "execution_count": 2,
   "metadata": {},
   "outputs": [
    {
     "name": "stdout",
     "output_type": "stream",
     "text": [
      "Top 1 elf has 71471 calories\n",
      "Top 2 elf has 70523 calories\n",
      "Top 3 elf has 69195 calories\n",
      "\n",
      "The top three elves carry 211189 calories in total.\n"
     ]
    }
   ],
   "source": [
    "top1 = max(calories_per_elf.values())\n",
    "print(f\"Top 1 elf has {top1} calories\")\n",
    "del(calories_per_elf[list(calories_per_elf.keys())[list(calories_per_elf.values()).index(top1)]])\n",
    "top2 = max(calories_per_elf.values())\n",
    "print(f\"Top 2 elf has {top2} calories\")\n",
    "del(calories_per_elf[list(calories_per_elf.keys())[list(calories_per_elf.values()).index(top2)]])\n",
    "top3 = max(calories_per_elf.values())\n",
    "print(f\"Top 3 elf has {top3} calories\")\n",
    "print(f\"\\nThe top three elves carry {top1 + top2 + top3} calories in total.\")"
   ]
  }
 ],
 "metadata": {
  "kernelspec": {
   "display_name": "Python 3.10.8 64-bit",
   "language": "python",
   "name": "python3"
  },
  "language_info": {
   "codemirror_mode": {
    "name": "ipython",
    "version": 3
   },
   "file_extension": ".py",
   "mimetype": "text/x-python",
   "name": "python",
   "nbconvert_exporter": "python",
   "pygments_lexer": "ipython3",
   "version": "3.10.8"
  },
  "orig_nbformat": 4,
  "vscode": {
   "interpreter": {
    "hash": "b0fa6594d8f4cbf19f97940f81e996739fb7646882a419484c72d19e05852a7e"
   }
  }
 },
 "nbformat": 4,
 "nbformat_minor": 2
}
